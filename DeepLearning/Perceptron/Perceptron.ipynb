{
 "cells": [
  {
   "cell_type": "code",
   "execution_count": 1,
   "id": "c86b139a",
   "metadata": {},
   "outputs": [],
   "source": [
    "import pandas as pd"
   ]
  },
  {
   "cell_type": "code",
   "execution_count": 2,
   "id": "7937a67c",
   "metadata": {},
   "outputs": [],
   "source": [
    "dataset = pd.read_csv(\"weight-height.csv\")"
   ]
  },
  {
   "cell_type": "code",
   "execution_count": 3,
   "id": "a5797c29",
   "metadata": {},
   "outputs": [
    {
     "data": {
      "text/plain": [
       "Index(['Gender', 'Height', 'Weight'], dtype='object')"
      ]
     },
     "execution_count": 3,
     "metadata": {},
     "output_type": "execute_result"
    }
   ],
   "source": [
    "dataset.columns"
   ]
  },
  {
   "cell_type": "code",
   "execution_count": 4,
   "id": "83970d22",
   "metadata": {},
   "outputs": [],
   "source": [
    "y = dataset['Weight']"
   ]
  },
  {
   "cell_type": "code",
   "execution_count": 5,
   "id": "d81ffc08",
   "metadata": {},
   "outputs": [],
   "source": [
    "X = dataset['Height']"
   ]
  },
  {
   "cell_type": "code",
   "execution_count": 6,
   "id": "8e0b7ac0",
   "metadata": {},
   "outputs": [
    {
     "data": {
      "text/plain": [
       "(10000,)"
      ]
     },
     "execution_count": 6,
     "metadata": {},
     "output_type": "execute_result"
    }
   ],
   "source": [
    "X.shape"
   ]
  },
  {
   "cell_type": "code",
   "execution_count": null,
   "id": "42d93db6",
   "metadata": {},
   "outputs": [],
   "source": []
  },
  {
   "cell_type": "code",
   "execution_count": 7,
   "id": "951a8943",
   "metadata": {},
   "outputs": [],
   "source": [
    "from keras.models import Sequential"
   ]
  },
  {
   "cell_type": "code",
   "execution_count": 8,
   "id": "696ae340",
   "metadata": {},
   "outputs": [],
   "source": [
    "model = Sequential()"
   ]
  },
  {
   "cell_type": "code",
   "execution_count": 9,
   "id": "52ca82ec",
   "metadata": {},
   "outputs": [
    {
     "ename": "ValueError",
     "evalue": "This model has not yet been built. Build the model first by calling `build()` or calling `fit()` with some data, or specify an `input_shape` argument in the first layer(s) for automatic build.",
     "output_type": "error",
     "traceback": [
      "\u001b[0;31m---------------------------------------------------------------------------\u001b[0m",
      "\u001b[0;31mValueError\u001b[0m                                Traceback (most recent call last)",
      "\u001b[0;32m<ipython-input-9-5f15418b3570>\u001b[0m in \u001b[0;36m<module>\u001b[0;34m\u001b[0m\n\u001b[0;32m----> 1\u001b[0;31m \u001b[0mmodel\u001b[0m\u001b[0;34m.\u001b[0m\u001b[0msummary\u001b[0m\u001b[0;34m(\u001b[0m\u001b[0;34m)\u001b[0m\u001b[0;34m\u001b[0m\u001b[0;34m\u001b[0m\u001b[0m\n\u001b[0m",
      "\u001b[0;32m~/ML/ARTH/lib64/python3.6/site-packages/tensorflow/python/keras/engine/training.py\u001b[0m in \u001b[0;36msummary\u001b[0;34m(self, line_length, positions, print_fn)\u001b[0m\n\u001b[1;32m   2374\u001b[0m     \"\"\"\n\u001b[1;32m   2375\u001b[0m     \u001b[0;32mif\u001b[0m \u001b[0;32mnot\u001b[0m \u001b[0mself\u001b[0m\u001b[0;34m.\u001b[0m\u001b[0mbuilt\u001b[0m\u001b[0;34m:\u001b[0m\u001b[0;34m\u001b[0m\u001b[0;34m\u001b[0m\u001b[0m\n\u001b[0;32m-> 2376\u001b[0;31m       raise ValueError('This model has not yet been built. '\n\u001b[0m\u001b[1;32m   2377\u001b[0m                        \u001b[0;34m'Build the model first by calling `build()` or calling '\u001b[0m\u001b[0;34m\u001b[0m\u001b[0;34m\u001b[0m\u001b[0m\n\u001b[1;32m   2378\u001b[0m                        \u001b[0;34m'`fit()` with some data, or specify '\u001b[0m\u001b[0;34m\u001b[0m\u001b[0;34m\u001b[0m\u001b[0m\n",
      "\u001b[0;31mValueError\u001b[0m: This model has not yet been built. Build the model first by calling `build()` or calling `fit()` with some data, or specify an `input_shape` argument in the first layer(s) for automatic build."
     ]
    }
   ],
   "source": [
    "model.summary()"
   ]
  },
  {
   "cell_type": "code",
   "execution_count": 10,
   "id": "3c1a31b6",
   "metadata": {},
   "outputs": [],
   "source": [
    "from keras.layers import Dense"
   ]
  },
  {
   "cell_type": "code",
   "execution_count": 11,
   "id": "d804dfd4",
   "metadata": {},
   "outputs": [],
   "source": [
    "model.add(Dense(activation='linear', input_shape=(1,), \n",
    "               units=1, kernel_initializer='zero', \n",
    "               bias_initializer=\"zeros\"\n",
    "               ))"
   ]
  },
  {
   "cell_type": "code",
   "execution_count": 12,
   "id": "0d04c2f8",
   "metadata": {},
   "outputs": [
    {
     "name": "stdout",
     "output_type": "stream",
     "text": [
      "Model: \"sequential\"\n",
      "_________________________________________________________________\n",
      "Layer (type)                 Output Shape              Param #   \n",
      "=================================================================\n",
      "dense (Dense)                (None, 1)                 2         \n",
      "=================================================================\n",
      "Total params: 2\n",
      "Trainable params: 2\n",
      "Non-trainable params: 0\n",
      "_________________________________________________________________\n"
     ]
    }
   ],
   "source": [
    "model.summary()"
   ]
  },
  {
   "cell_type": "code",
   "execution_count": 13,
   "id": "97ae1749",
   "metadata": {},
   "outputs": [
    {
     "data": {
      "text/plain": [
       "{'name': 'sequential',\n",
       " 'layers': [{'class_name': 'InputLayer',\n",
       "   'config': {'batch_input_shape': (None, 1),\n",
       "    'dtype': 'float32',\n",
       "    'sparse': False,\n",
       "    'ragged': False,\n",
       "    'name': 'dense_input'}},\n",
       "  {'class_name': 'Dense',\n",
       "   'config': {'name': 'dense',\n",
       "    'trainable': True,\n",
       "    'batch_input_shape': (None, 1),\n",
       "    'dtype': 'float32',\n",
       "    'units': 1,\n",
       "    'activation': 'linear',\n",
       "    'use_bias': True,\n",
       "    'kernel_initializer': {'class_name': 'Zeros', 'config': {}},\n",
       "    'bias_initializer': {'class_name': 'Zeros', 'config': {}},\n",
       "    'kernel_regularizer': None,\n",
       "    'bias_regularizer': None,\n",
       "    'activity_regularizer': None,\n",
       "    'kernel_constraint': None,\n",
       "    'bias_constraint': None}}]}"
      ]
     },
     "execution_count": 13,
     "metadata": {},
     "output_type": "execute_result"
    }
   ],
   "source": [
    "model.get_config()"
   ]
  },
  {
   "cell_type": "code",
   "execution_count": 14,
   "id": "651c9941",
   "metadata": {},
   "outputs": [
    {
     "data": {
      "text/plain": [
       "[array([[0.]], dtype=float32), array([0.], dtype=float32)]"
      ]
     },
     "execution_count": 14,
     "metadata": {},
     "output_type": "execute_result"
    }
   ],
   "source": [
    "model.get_weights()"
   ]
  },
  {
   "cell_type": "code",
   "execution_count": 15,
   "id": "d8b2f097",
   "metadata": {},
   "outputs": [],
   "source": [
    "from keras.optimizers import Adam"
   ]
  },
  {
   "cell_type": "code",
   "execution_count": 16,
   "id": "c4f91d48",
   "metadata": {},
   "outputs": [],
   "source": [
    "model.compile(loss='mean_squared_error', optimizer=Adam(learning_rate=0.01))"
   ]
  },
  {
   "cell_type": "code",
   "execution_count": 17,
   "id": "ab5fd7e5",
   "metadata": {},
   "outputs": [
    {
     "name": "stdout",
     "output_type": "stream",
     "text": [
      "Epoch 1/200\n",
      "313/313 [==============================] - 2s 3ms/step - loss: 15614.3513\n",
      "Epoch 2/200\n",
      "313/313 [==============================] - 1s 4ms/step - loss: 781.3479\n",
      "Epoch 3/200\n",
      "313/313 [==============================] - 1s 3ms/step - loss: 577.4531\n",
      "Epoch 4/200\n",
      "313/313 [==============================] - 1s 3ms/step - loss: 563.3253\n",
      "Epoch 5/200\n",
      "313/313 [==============================] - 1s 3ms/step - loss: 569.7879\n",
      "Epoch 6/200\n",
      "313/313 [==============================] - 1s 3ms/step - loss: 574.3159\n",
      "Epoch 7/200\n",
      "313/313 [==============================] - 2s 5ms/step - loss: 566.4075\n",
      "Epoch 8/200\n",
      "313/313 [==============================] - 1s 4ms/step - loss: 571.8020\n",
      "Epoch 9/200\n",
      "313/313 [==============================] - 1s 4ms/step - loss: 555.9708\n",
      "Epoch 10/200\n",
      "313/313 [==============================] - 1s 3ms/step - loss: 566.4455\n",
      "Epoch 11/200\n",
      "313/313 [==============================] - 1s 4ms/step - loss: 563.2626\n",
      "Epoch 12/200\n",
      "313/313 [==============================] - 2s 6ms/step - loss: 551.6907\n",
      "Epoch 13/200\n",
      "313/313 [==============================] - 1s 4ms/step - loss: 573.1782\n",
      "Epoch 14/200\n",
      "313/313 [==============================] - 1s 3ms/step - loss: 559.8113\n",
      "Epoch 15/200\n",
      "313/313 [==============================] - 1s 4ms/step - loss: 562.8889\n",
      "Epoch 16/200\n",
      "313/313 [==============================] - 1s 4ms/step - loss: 569.4962\n",
      "Epoch 17/200\n",
      "313/313 [==============================] - 1s 3ms/step - loss: 558.3263\n",
      "Epoch 18/200\n",
      "313/313 [==============================] - 1s 4ms/step - loss: 557.1878\n",
      "Epoch 19/200\n",
      "313/313 [==============================] - 1s 4ms/step - loss: 541.3929\n",
      "Epoch 20/200\n",
      "313/313 [==============================] - 1s 4ms/step - loss: 559.7319\n",
      "Epoch 21/200\n",
      "313/313 [==============================] - 1s 5ms/step - loss: 546.2812\n",
      "Epoch 22/200\n",
      "313/313 [==============================] - 2s 5ms/step - loss: 548.4381\n",
      "Epoch 23/200\n",
      "313/313 [==============================] - 1s 4ms/step - loss: 544.8583\n",
      "Epoch 24/200\n",
      "313/313 [==============================] - 1s 4ms/step - loss: 551.7642\n",
      "Epoch 25/200\n",
      "313/313 [==============================] - 1s 5ms/step - loss: 547.1912\n",
      "Epoch 26/200\n",
      "313/313 [==============================] - 2s 5ms/step - loss: 540.0629\n",
      "Epoch 27/200\n",
      "313/313 [==============================] - 1s 3ms/step - loss: 545.0438\n",
      "Epoch 28/200\n",
      "313/313 [==============================] - 1s 4ms/step - loss: 538.1909\n",
      "Epoch 29/200\n",
      "313/313 [==============================] - 1s 3ms/step - loss: 541.5491\n",
      "Epoch 30/200\n",
      "313/313 [==============================] - 1s 3ms/step - loss: 543.9562\n",
      "Epoch 31/200\n",
      "313/313 [==============================] - 1s 4ms/step - loss: 533.9923\n",
      "Epoch 32/200\n",
      "313/313 [==============================] - 1s 4ms/step - loss: 534.6890\n",
      "Epoch 33/200\n",
      "313/313 [==============================] - 1s 5ms/step - loss: 533.0821\n",
      "Epoch 34/200\n",
      "313/313 [==============================] - 1s 4ms/step - loss: 530.5259\n",
      "Epoch 35/200\n",
      "313/313 [==============================] - 2s 5ms/step - loss: 528.0968\n",
      "Epoch 36/200\n",
      "313/313 [==============================] - 1s 3ms/step - loss: 519.5059\n",
      "Epoch 37/200\n",
      "313/313 [==============================] - 1s 3ms/step - loss: 525.0350\n",
      "Epoch 38/200\n",
      "313/313 [==============================] - 1s 4ms/step - loss: 519.4725\n",
      "Epoch 39/200\n",
      "313/313 [==============================] - 1s 3ms/step - loss: 519.7095\n",
      "Epoch 40/200\n",
      "313/313 [==============================] - 1s 4ms/step - loss: 517.4730\n",
      "Epoch 41/200\n",
      "313/313 [==============================] - 1s 5ms/step - loss: 527.8969\n",
      "Epoch 42/200\n",
      "313/313 [==============================] - 1s 3ms/step - loss: 517.3588\n",
      "Epoch 43/200\n",
      "313/313 [==============================] - 1s 4ms/step - loss: 517.4220\n",
      "Epoch 44/200\n",
      "313/313 [==============================] - 1s 3ms/step - loss: 506.9703\n",
      "Epoch 45/200\n",
      "313/313 [==============================] - 2s 5ms/step - loss: 497.8040\n",
      "Epoch 46/200\n",
      "313/313 [==============================] - 1s 4ms/step - loss: 502.6285\n",
      "Epoch 47/200\n",
      "313/313 [==============================] - 1s 3ms/step - loss: 507.7949\n",
      "Epoch 48/200\n",
      "313/313 [==============================] - 1s 4ms/step - loss: 498.2805\n",
      "Epoch 49/200\n",
      "313/313 [==============================] - 1s 4ms/step - loss: 500.3677\n",
      "Epoch 50/200\n",
      "313/313 [==============================] - 1s 4ms/step - loss: 492.6511\n",
      "Epoch 51/200\n",
      "313/313 [==============================] - 1s 3ms/step - loss: 510.1955\n",
      "Epoch 52/200\n",
      "313/313 [==============================] - 1s 3ms/step - loss: 493.1711\n",
      "Epoch 53/200\n",
      "313/313 [==============================] - 1s 5ms/step - loss: 494.2839\n",
      "Epoch 54/200\n",
      "313/313 [==============================] - 1s 5ms/step - loss: 490.2372\n",
      "Epoch 55/200\n",
      "313/313 [==============================] - 1s 3ms/step - loss: 490.2700\n",
      "Epoch 56/200\n",
      "313/313 [==============================] - 1s 3ms/step - loss: 487.3427\n",
      "Epoch 57/200\n",
      "313/313 [==============================] - 1s 3ms/step - loss: 492.5119\n",
      "Epoch 58/200\n",
      "313/313 [==============================] - 1s 4ms/step - loss: 487.2644\n",
      "Epoch 59/200\n",
      "313/313 [==============================] - 1s 5ms/step - loss: 473.5293\n",
      "Epoch 60/200\n",
      "313/313 [==============================] - 1s 4ms/step - loss: 488.2406\n",
      "Epoch 61/200\n",
      "313/313 [==============================] - 2s 6ms/step - loss: 480.2798\n",
      "Epoch 62/200\n",
      "313/313 [==============================] - 1s 4ms/step - loss: 482.6244\n",
      "Epoch 63/200\n",
      "313/313 [==============================] - 1s 5ms/step - loss: 482.7398\n",
      "Epoch 64/200\n",
      "313/313 [==============================] - 1s 3ms/step - loss: 476.3488\n",
      "Epoch 65/200\n",
      "313/313 [==============================] - 1s 3ms/step - loss: 480.4678\n",
      "Epoch 66/200\n",
      "313/313 [==============================] - 1s 4ms/step - loss: 472.3982\n",
      "Epoch 67/200\n",
      "313/313 [==============================] - 1s 4ms/step - loss: 471.4523\n",
      "Epoch 68/200\n",
      "313/313 [==============================] - 1s 5ms/step - loss: 471.5115\n",
      "Epoch 69/200\n",
      "313/313 [==============================] - 1s 4ms/step - loss: 471.3521\n",
      "Epoch 70/200\n",
      "313/313 [==============================] - 1s 4ms/step - loss: 458.5652\n",
      "Epoch 71/200\n",
      "313/313 [==============================] - 1s 3ms/step - loss: 473.3487\n",
      "Epoch 72/200\n",
      "313/313 [==============================] - 1s 4ms/step - loss: 476.8068\n",
      "Epoch 73/200\n",
      "313/313 [==============================] - 1s 4ms/step - loss: 469.3551\n",
      "Epoch 74/200\n",
      "313/313 [==============================] - 1s 3ms/step - loss: 462.5481\n",
      "Epoch 75/200\n",
      "313/313 [==============================] - 1s 3ms/step - loss: 457.0082\n",
      "Epoch 76/200\n",
      "313/313 [==============================] - 1s 4ms/step - loss: 460.1171\n",
      "Epoch 77/200\n",
      "313/313 [==============================] - 1s 3ms/step - loss: 453.1027\n",
      "Epoch 78/200\n",
      "313/313 [==============================] - 1s 4ms/step - loss: 461.8804\n",
      "Epoch 79/200\n",
      "313/313 [==============================] - 1s 3ms/step - loss: 438.8288\n",
      "Epoch 80/200\n",
      "313/313 [==============================] - 1s 4ms/step - loss: 450.1253\n",
      "Epoch 81/200\n",
      "313/313 [==============================] - 1s 4ms/step - loss: 453.4054\n",
      "Epoch 82/200\n",
      "313/313 [==============================] - 1s 3ms/step - loss: 450.5716\n",
      "Epoch 83/200\n",
      "313/313 [==============================] - 1s 4ms/step - loss: 442.1548\n",
      "Epoch 84/200\n",
      "313/313 [==============================] - 1s 3ms/step - loss: 448.7613\n",
      "Epoch 85/200\n",
      "313/313 [==============================] - 1s 5ms/step - loss: 451.4752\n",
      "Epoch 86/200\n",
      "313/313 [==============================] - 1s 4ms/step - loss: 449.0742\n",
      "Epoch 87/200\n",
      "313/313 [==============================] - 1s 4ms/step - loss: 444.5351\n",
      "Epoch 88/200\n",
      "313/313 [==============================] - 1s 4ms/step - loss: 442.1979\n",
      "Epoch 89/200\n",
      "313/313 [==============================] - 1s 4ms/step - loss: 444.5443\n",
      "Epoch 90/200\n",
      "313/313 [==============================] - 1s 4ms/step - loss: 438.7717\n",
      "Epoch 91/200\n",
      "313/313 [==============================] - 1s 5ms/step - loss: 439.0320\n",
      "Epoch 92/200\n",
      "313/313 [==============================] - 1s 4ms/step - loss: 436.8272\n",
      "Epoch 93/200\n",
      "313/313 [==============================] - 2s 5ms/step - loss: 439.7719\n",
      "Epoch 94/200\n",
      "313/313 [==============================] - 1s 3ms/step - loss: 428.6307\n",
      "Epoch 95/200\n",
      "313/313 [==============================] - 1s 3ms/step - loss: 434.1014\n",
      "Epoch 96/200\n",
      "313/313 [==============================] - 1s 4ms/step - loss: 430.9757\n",
      "Epoch 97/200\n"
     ]
    },
    {
     "name": "stdout",
     "output_type": "stream",
     "text": [
      "313/313 [==============================] - 1s 4ms/step - loss: 429.8060\n",
      "Epoch 98/200\n",
      "313/313 [==============================] - 1s 3ms/step - loss: 423.6421\n",
      "Epoch 99/200\n",
      "313/313 [==============================] - 1s 3ms/step - loss: 422.2707\n",
      "Epoch 100/200\n",
      "313/313 [==============================] - 1s 4ms/step - loss: 421.3773\n",
      "Epoch 101/200\n",
      "313/313 [==============================] - 1s 4ms/step - loss: 417.2963\n",
      "Epoch 102/200\n",
      "313/313 [==============================] - 1s 4ms/step - loss: 420.1106\n",
      "Epoch 103/200\n",
      "313/313 [==============================] - 1s 4ms/step - loss: 417.2480\n",
      "Epoch 104/200\n",
      "313/313 [==============================] - 1s 4ms/step - loss: 422.8897\n",
      "Epoch 105/200\n",
      "313/313 [==============================] - 1s 4ms/step - loss: 410.1055\n",
      "Epoch 106/200\n",
      "313/313 [==============================] - 1s 4ms/step - loss: 413.0651\n",
      "Epoch 107/200\n",
      "313/313 [==============================] - 1s 3ms/step - loss: 420.2951\n",
      "Epoch 108/200\n",
      "313/313 [==============================] - 1s 4ms/step - loss: 403.5674\n",
      "Epoch 109/200\n",
      "313/313 [==============================] - 1s 4ms/step - loss: 408.6362\n",
      "Epoch 110/200\n",
      "313/313 [==============================] - 1s 4ms/step - loss: 414.0161\n",
      "Epoch 111/200\n",
      "313/313 [==============================] - 1s 3ms/step - loss: 412.4167\n",
      "Epoch 112/200\n",
      "313/313 [==============================] - 1s 3ms/step - loss: 413.4147\n",
      "Epoch 113/200\n",
      "313/313 [==============================] - 1s 3ms/step - loss: 405.0677\n",
      "Epoch 114/200\n",
      "313/313 [==============================] - 1s 3ms/step - loss: 400.9273\n",
      "Epoch 115/200\n",
      "313/313 [==============================] - 1s 3ms/step - loss: 407.6956\n",
      "Epoch 116/200\n",
      "313/313 [==============================] - 1s 4ms/step - loss: 396.4286\n",
      "Epoch 117/200\n",
      "313/313 [==============================] - 1s 3ms/step - loss: 391.7058\n",
      "Epoch 118/200\n",
      "313/313 [==============================] - 1s 4ms/step - loss: 398.2456\n",
      "Epoch 119/200\n",
      "313/313 [==============================] - 1s 3ms/step - loss: 397.0897\n",
      "Epoch 120/200\n",
      "313/313 [==============================] - 1s 4ms/step - loss: 393.3066\n",
      "Epoch 121/200\n",
      "313/313 [==============================] - 1s 3ms/step - loss: 388.3267\n",
      "Epoch 122/200\n",
      "313/313 [==============================] - 1s 4ms/step - loss: 392.9257\n",
      "Epoch 123/200\n",
      "313/313 [==============================] - 1s 4ms/step - loss: 391.4657\n",
      "Epoch 124/200\n",
      "313/313 [==============================] - 1s 3ms/step - loss: 392.7318\n",
      "Epoch 125/200\n",
      "313/313 [==============================] - 1s 4ms/step - loss: 381.9445\n",
      "Epoch 126/200\n",
      "313/313 [==============================] - 1s 4ms/step - loss: 387.4920\n",
      "Epoch 127/200\n",
      "313/313 [==============================] - 1s 3ms/step - loss: 390.1125\n",
      "Epoch 128/200\n",
      "313/313 [==============================] - 1s 4ms/step - loss: 386.2701\n",
      "Epoch 129/200\n",
      "313/313 [==============================] - 1s 5ms/step - loss: 388.7207\n",
      "Epoch 130/200\n",
      "313/313 [==============================] - 1s 3ms/step - loss: 379.6911\n",
      "Epoch 131/200\n",
      "313/313 [==============================] - 1s 3ms/step - loss: 379.2054\n",
      "Epoch 132/200\n",
      "313/313 [==============================] - 1s 3ms/step - loss: 380.0758\n",
      "Epoch 133/200\n",
      "313/313 [==============================] - 1s 4ms/step - loss: 382.7316\n",
      "Epoch 134/200\n",
      "313/313 [==============================] - 1s 5ms/step - loss: 379.1915\n",
      "Epoch 135/200\n",
      "313/313 [==============================] - 1s 4ms/step - loss: 375.4495\n",
      "Epoch 136/200\n",
      "313/313 [==============================] - 1s 3ms/step - loss: 368.7889\n",
      "Epoch 137/200\n",
      "313/313 [==============================] - 1s 3ms/step - loss: 372.9298\n",
      "Epoch 138/200\n",
      "313/313 [==============================] - 1s 4ms/step - loss: 372.7824\n",
      "Epoch 139/200\n",
      "313/313 [==============================] - 1s 4ms/step - loss: 369.7137\n",
      "Epoch 140/200\n",
      "313/313 [==============================] - 1s 4ms/step - loss: 367.5610\n",
      "Epoch 141/200\n",
      "313/313 [==============================] - 1s 5ms/step - loss: 366.0617\n",
      "Epoch 142/200\n",
      "313/313 [==============================] - 1s 3ms/step - loss: 368.6510\n",
      "Epoch 143/200\n",
      "313/313 [==============================] - 1s 4ms/step - loss: 362.9051\n",
      "Epoch 144/200\n",
      "313/313 [==============================] - 1s 4ms/step - loss: 369.5776\n",
      "Epoch 145/200\n",
      "313/313 [==============================] - 1s 3ms/step - loss: 369.4429\n",
      "Epoch 146/200\n",
      "313/313 [==============================] - 1s 3ms/step - loss: 367.8451\n",
      "Epoch 147/200\n",
      "313/313 [==============================] - 1s 4ms/step - loss: 357.1220\n",
      "Epoch 148/200\n",
      "313/313 [==============================] - 1s 4ms/step - loss: 362.1964\n",
      "Epoch 149/200\n",
      "313/313 [==============================] - 1s 3ms/step - loss: 357.2768\n",
      "Epoch 150/200\n",
      "313/313 [==============================] - 1s 3ms/step - loss: 357.7120\n",
      "Epoch 151/200\n",
      "313/313 [==============================] - 1s 4ms/step - loss: 353.8631\n",
      "Epoch 152/200\n",
      "313/313 [==============================] - 1s 4ms/step - loss: 358.9798\n",
      "Epoch 153/200\n",
      "313/313 [==============================] - 1s 3ms/step - loss: 356.3074\n",
      "Epoch 154/200\n",
      "313/313 [==============================] - 1s 3ms/step - loss: 349.6156\n",
      "Epoch 155/200\n",
      "313/313 [==============================] - 1s 3ms/step - loss: 348.7209\n",
      "Epoch 156/200\n",
      "313/313 [==============================] - 1s 3ms/step - loss: 358.1003\n",
      "Epoch 157/200\n",
      "313/313 [==============================] - 1s 4ms/step - loss: 351.6717\n",
      "Epoch 158/200\n",
      "313/313 [==============================] - 1s 4ms/step - loss: 351.2836\n",
      "Epoch 159/200\n",
      "313/313 [==============================] - 1s 4ms/step - loss: 351.4220\n",
      "Epoch 160/200\n",
      "313/313 [==============================] - 1s 4ms/step - loss: 345.4456\n",
      "Epoch 161/200\n",
      "313/313 [==============================] - 1s 4ms/step - loss: 346.0162\n",
      "Epoch 162/200\n",
      "313/313 [==============================] - 1s 3ms/step - loss: 345.5704\n",
      "Epoch 163/200\n",
      "313/313 [==============================] - 1s 4ms/step - loss: 336.8845\n",
      "Epoch 164/200\n",
      "313/313 [==============================] - 1s 4ms/step - loss: 342.9153\n",
      "Epoch 165/200\n",
      "313/313 [==============================] - 1s 4ms/step - loss: 339.9297\n",
      "Epoch 166/200\n",
      "313/313 [==============================] - 1s 5ms/step - loss: 339.8818\n",
      "Epoch 167/200\n",
      "313/313 [==============================] - 1s 4ms/step - loss: 341.2267\n",
      "Epoch 168/200\n",
      "313/313 [==============================] - 1s 4ms/step - loss: 337.2152\n",
      "Epoch 169/200\n",
      "313/313 [==============================] - 1s 4ms/step - loss: 332.6465\n",
      "Epoch 170/200\n",
      "313/313 [==============================] - 2s 5ms/step - loss: 336.5020\n",
      "Epoch 171/200\n",
      "313/313 [==============================] - 1s 4ms/step - loss: 336.9497\n",
      "Epoch 172/200\n",
      "313/313 [==============================] - 1s 4ms/step - loss: 328.3227\n",
      "Epoch 173/200\n",
      "313/313 [==============================] - 1s 3ms/step - loss: 332.5289\n",
      "Epoch 174/200\n",
      "313/313 [==============================] - 1s 4ms/step - loss: 330.5057\n",
      "Epoch 175/200\n",
      "313/313 [==============================] - 1s 4ms/step - loss: 328.7724\n",
      "Epoch 176/200\n",
      "313/313 [==============================] - 1s 4ms/step - loss: 326.0404\n",
      "Epoch 177/200\n",
      "313/313 [==============================] - 2s 5ms/step - loss: 326.0402\n",
      "Epoch 178/200\n",
      "313/313 [==============================] - 2s 5ms/step - loss: 335.6356\n",
      "Epoch 179/200\n",
      "313/313 [==============================] - 1s 5ms/step - loss: 330.8122\n",
      "Epoch 180/200\n",
      "313/313 [==============================] - 1s 5ms/step - loss: 324.2807\n",
      "Epoch 181/200\n",
      "313/313 [==============================] - 2s 5ms/step - loss: 317.7465\n",
      "Epoch 182/200\n",
      "313/313 [==============================] - 1s 4ms/step - loss: 319.6238\n",
      "Epoch 183/200\n",
      "313/313 [==============================] - 1s 4ms/step - loss: 319.3916\n",
      "Epoch 184/200\n",
      "313/313 [==============================] - 1s 5ms/step - loss: 317.1302\n",
      "Epoch 185/200\n",
      "313/313 [==============================] - 2s 5ms/step - loss: 314.6316\n",
      "Epoch 186/200\n",
      "313/313 [==============================] - 1s 4ms/step - loss: 318.4795\n",
      "Epoch 187/200\n",
      "313/313 [==============================] - 1s 5ms/step - loss: 316.3209\n",
      "Epoch 188/200\n",
      "313/313 [==============================] - 1s 5ms/step - loss: 308.8482\n",
      "Epoch 189/200\n",
      "313/313 [==============================] - 1s 4ms/step - loss: 309.9688\n",
      "Epoch 190/200\n",
      "313/313 [==============================] - 2s 7ms/step - loss: 319.4808\n",
      "Epoch 191/200\n",
      "313/313 [==============================] - 1s 5ms/step - loss: 314.4654\n",
      "Epoch 192/200\n"
     ]
    },
    {
     "name": "stdout",
     "output_type": "stream",
     "text": [
      "313/313 [==============================] - 1s 4ms/step - loss: 311.0153\n",
      "Epoch 193/200\n",
      "313/313 [==============================] - 1s 5ms/step - loss: 306.0773\n",
      "Epoch 194/200\n",
      "313/313 [==============================] - 1s 4ms/step - loss: 309.4124\n",
      "Epoch 195/200\n",
      "313/313 [==============================] - 1s 4ms/step - loss: 310.3076\n",
      "Epoch 196/200\n",
      "313/313 [==============================] - 1s 4ms/step - loss: 306.0903\n",
      "Epoch 197/200\n",
      "313/313 [==============================] - 1s 3ms/step - loss: 310.7090\n",
      "Epoch 198/200\n",
      "313/313 [==============================] - 1s 4ms/step - loss: 303.1430\n",
      "Epoch 199/200\n",
      "313/313 [==============================] - 1s 4ms/step - loss: 308.6148\n",
      "Epoch 200/200\n",
      "313/313 [==============================] - 1s 4ms/step - loss: 311.4386\n"
     ]
    },
    {
     "data": {
      "text/plain": [
       "<tensorflow.python.keras.callbacks.History at 0x7f93943ed588>"
      ]
     },
     "execution_count": 17,
     "metadata": {},
     "output_type": "execute_result"
    }
   ],
   "source": [
    "model.fit(X,y, epochs=200)"
   ]
  },
  {
   "cell_type": "code",
   "execution_count": 18,
   "id": "dbfe089b",
   "metadata": {},
   "outputs": [
    {
     "data": {
      "text/plain": [
       "[array([[4.5117993]], dtype=float32), array([-137.19835], dtype=float32)]"
      ]
     },
     "execution_count": 18,
     "metadata": {},
     "output_type": "execute_result"
    }
   ],
   "source": [
    "model.get_weights()"
   ]
  },
  {
   "cell_type": "code",
   "execution_count": 20,
   "id": "819a3044",
   "metadata": {},
   "outputs": [
    {
     "data": {
      "text/plain": [
       "array([[598.2249]], dtype=float32)"
      ]
     },
     "execution_count": 20,
     "metadata": {},
     "output_type": "execute_result"
    }
   ],
   "source": [
    "model.predict([163])"
   ]
  },
  {
   "cell_type": "code",
   "execution_count": 23,
   "id": "71db1963",
   "metadata": {},
   "outputs": [
    {
     "data": {
      "text/html": [
       "<div>\n",
       "<style scoped>\n",
       "    .dataframe tbody tr th:only-of-type {\n",
       "        vertical-align: middle;\n",
       "    }\n",
       "\n",
       "    .dataframe tbody tr th {\n",
       "        vertical-align: top;\n",
       "    }\n",
       "\n",
       "    .dataframe thead th {\n",
       "        text-align: right;\n",
       "    }\n",
       "</style>\n",
       "<table border=\"1\" class=\"dataframe\">\n",
       "  <thead>\n",
       "    <tr style=\"text-align: right;\">\n",
       "      <th></th>\n",
       "      <th>Gender</th>\n",
       "      <th>Height</th>\n",
       "      <th>Weight</th>\n",
       "    </tr>\n",
       "  </thead>\n",
       "  <tbody>\n",
       "    <tr>\n",
       "      <th>9997</th>\n",
       "      <td>Female</td>\n",
       "      <td>63.867992</td>\n",
       "      <td>128.475319</td>\n",
       "    </tr>\n",
       "    <tr>\n",
       "      <th>9998</th>\n",
       "      <td>Female</td>\n",
       "      <td>69.034243</td>\n",
       "      <td>163.852461</td>\n",
       "    </tr>\n",
       "    <tr>\n",
       "      <th>9999</th>\n",
       "      <td>Female</td>\n",
       "      <td>61.944246</td>\n",
       "      <td>113.649103</td>\n",
       "    </tr>\n",
       "  </tbody>\n",
       "</table>\n",
       "</div>"
      ],
      "text/plain": [
       "      Gender     Height      Weight\n",
       "9997  Female  63.867992  128.475319\n",
       "9998  Female  69.034243  163.852461\n",
       "9999  Female  61.944246  113.649103"
      ]
     },
     "execution_count": 23,
     "metadata": {},
     "output_type": "execute_result"
    }
   ],
   "source": [
    "dataset.tail(3)"
   ]
  },
  {
   "cell_type": "code",
   "execution_count": 25,
   "id": "c6b89a31",
   "metadata": {},
   "outputs": [
    {
     "data": {
      "text/plain": [
       "array([[147.045]], dtype=float32)"
      ]
     },
     "execution_count": 25,
     "metadata": {},
     "output_type": "execute_result"
    }
   ],
   "source": [
    "model.predict([63])"
   ]
  },
  {
   "cell_type": "code",
   "execution_count": 27,
   "id": "5478858c",
   "metadata": {},
   "outputs": [],
   "source": [
    "model.save(\"height-weight.h5\")"
   ]
  },
  {
   "cell_type": "code",
   "execution_count": 28,
   "id": "b3a95dba",
   "metadata": {},
   "outputs": [],
   "source": [
    "from keras.models import load_model"
   ]
  },
  {
   "cell_type": "code",
   "execution_count": 30,
   "id": "9a81c550",
   "metadata": {},
   "outputs": [],
   "source": [
    "model = load_model(\"height-weight.h5\")"
   ]
  },
  {
   "cell_type": "code",
   "execution_count": 31,
   "id": "e23cd09c",
   "metadata": {},
   "outputs": [
    {
     "data": {
      "text/plain": [
       "array([[147.045]], dtype=float32)"
      ]
     },
     "execution_count": 31,
     "metadata": {},
     "output_type": "execute_result"
    }
   ],
   "source": [
    "model.predict([63])"
   ]
  },
  {
   "cell_type": "code",
   "execution_count": null,
   "id": "9594d128",
   "metadata": {},
   "outputs": [],
   "source": []
  }
 ],
 "metadata": {
  "kernelspec": {
   "display_name": "Python 3",
   "language": "python",
   "name": "python3"
  },
  "language_info": {
   "codemirror_mode": {
    "name": "ipython",
    "version": 3
   },
   "file_extension": ".py",
   "mimetype": "text/x-python",
   "name": "python",
   "nbconvert_exporter": "python",
   "pygments_lexer": "ipython3",
   "version": "3.6.8"
  }
 },
 "nbformat": 4,
 "nbformat_minor": 5
}
